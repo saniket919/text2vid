{
 "cells": [
  {
   "cell_type": "code",
   "execution_count": null,
   "metadata": {},
   "outputs": [],
   "source": []
  },
  {
   "cell_type": "code",
   "execution_count": 84,
   "metadata": {},
   "outputs": [],
   "source": [
    "import random\n",
    "from PIL import Image, ImageDraw, ImageFont, ImageFilter , ImageOps\n",
    "\n",
    "# Set up input text\n",
    "text = \"Hey there My name is DURGANSH\""
   ]
  },
  {
   "cell_type": "code",
   "execution_count": 85,
   "metadata": {},
   "outputs": [],
   "source": [
    "# Set up image properties\n",
    "image_width = 1080\n",
    "image_height = 1920\n",
    "background_color = (0, 0, 0) # black background\n",
    "#font_size = 140 # increased font size\n",
    "\n",
    "\n"
   ]
  },
  {
   "cell_type": "code",
   "execution_count": 86,
   "metadata": {},
   "outputs": [
    {
     "name": "stderr",
     "output_type": "stream",
     "text": [
      "C:\\Users\\dixit\\AppData\\Local\\Temp;\\ipykernel_10180\\3038840743.py:16: DeprecationWarning: textsize is deprecated and will be removed in Pillow 10 (2023-07-01). Use textbbox or textlength instead.\n",
      "  text_width, text_height = draw.textsize(word, font=font)\n",
      "C:\\Users\\dixit\\AppData\\Local\\Temp;\\ipykernel_10180\\3038840743.py:16: DeprecationWarning: textsize is deprecated and will be removed in Pillow 10 (2023-07-01). Use textbbox or textlength instead.\n",
      "  text_width, text_height = draw.textsize(word, font=font)\n",
      "C:\\Users\\dixit\\AppData\\Local\\Temp;\\ipykernel_10180\\3038840743.py:16: DeprecationWarning: textsize is deprecated and will be removed in Pillow 10 (2023-07-01). Use textbbox or textlength instead.\n",
      "  text_width, text_height = draw.textsize(word, font=font)\n",
      "C:\\Users\\dixit\\AppData\\Local\\Temp;\\ipykernel_10180\\3038840743.py:16: DeprecationWarning: textsize is deprecated and will be removed in Pillow 10 (2023-07-01). Use textbbox or textlength instead.\n",
      "  text_width, text_height = draw.textsize(word, font=font)\n",
      "C:\\Users\\dixit\\AppData\\Local\\Temp;\\ipykernel_10180\\3038840743.py:16: DeprecationWarning: textsize is deprecated and will be removed in Pillow 10 (2023-07-01). Use textbbox or textlength instead.\n",
      "  text_width, text_height = draw.textsize(word, font=font)\n",
      "C:\\Users\\dixit\\AppData\\Local\\Temp;\\ipykernel_10180\\3038840743.py:16: DeprecationWarning: textsize is deprecated and will be removed in Pillow 10 (2023-07-01). Use textbbox or textlength instead.\n",
      "  text_width, text_height = draw.textsize(word, font=font)\n"
     ]
    }
   ],
   "source": [
    "# Create new image for each word in the input text\n",
    "for word in text.split():\n",
    "    # Create new image\n",
    "    image = Image.new(\"RGB\", (image_width, image_height), background_color)\n",
    "\n",
    "    # Create drawing object\n",
    "    draw = ImageDraw.Draw(image)\n",
    "\n",
    "    # Load font\n",
    "    font = ImageFont.truetype(\"Candara.ttf\", font_size)\n",
    "\n",
    "    # Set random font color\n",
    "    font_color = (random.randint(0, 255), random.randint(0, 255), random.randint(0, 255))\n",
    "\n",
    "    # Calculate text size and position\n",
    "    text_width, text_height = draw.textsize(word, font=font)\n",
    "    text_x = (image_width - text_width) / 2\n",
    "    text_y = (image_height - text_height) / 2\n",
    "\n",
    "    # Draw text\n",
    "    draw.text((text_x, text_y), word, font=font, fill=font_color)\n",
    "\n",
    "    # Apply gradient\n",
    "    gradient_color = (random.randint(0, 255), random.randint(0, 255), random.randint(0, 255))\n",
    "    gradient = ImageOps.colorize(image.convert('L'), gradient_color, background_color)\n",
    "    gradient = gradient.resize((image_width, image_height))\n",
    "\n",
    "    # Combine images\n",
    "    combined_image = Image.alpha_composite(gradient.convert('RGBA'), image.convert('RGBA'))\n",
    "\n",
    "    # Save image\n",
    "    combined_image.save(f\"{word}.png\")"
   ]
  },
  {
   "cell_type": "code",
   "execution_count": 87,
   "metadata": {},
   "outputs": [],
   "source": [
    "# # Combine images into a video\n",
    "# import cv2\n",
    "# import os\n",
    "\n",
    "# # Define video properties\n",
    "# fps = 3\n",
    "# video_name = 'output.mp4'\n",
    "\n",
    "# # Get list of image filenames\n",
    "# images = [f\"{word}.png\" for word in text.split()]\n",
    "\n",
    "# # Get image dimensions\n",
    "# img = cv2.imread(images[0])\n",
    "# height, width, layers = img.shape\n",
    "\n",
    "# # Initialize video writer object\n",
    "# fourcc = cv2.VideoWriter_fourcc(*'mp4v')\n",
    "# video = cv2.VideoWriter(video_name, fourcc, fps, (width,height))\n",
    "\n",
    "# # Write images to video\n",
    "# for image in images:\n",
    "#     img = cv2.imread(image)\n",
    "#     video.write(img)\n",
    "\n",
    "# # Release video writer object\n",
    "# cv2.destroyAllWindows()\n",
    "# video.release()\n",
    "\n",
    "# # Delete individual image files\n",
    "# # for image in images:\n",
    "# #     os.remove(image)"
   ]
  },
  {
   "cell_type": "code",
   "execution_count": null,
   "metadata": {},
   "outputs": [],
   "source": [
    "import cv2\n",
    "import numpy as np\n",
    "import random\n",
    "\n",
    "# Set up input text\n",
    "text = \"Hey there My name is DURGANSH\"\n",
    "words = text.split()\n",
    "\n",
    "# Set up video properties\n",
    "video_width = 1080\n",
    "video_height = 1920\n",
    "frame_rate = 24\n",
    "duration = 10\n",
    "\n",
    "# Set up font properties\n",
    "font = cv2.FONT_HERSHEY_SIMPLEX\n",
    "font_scale = 5\n",
    "font_thickness = 10\n",
    "font_color = (0, 255, 0)  # neon green\n",
    "\n",
    "# Create black background\n",
    "background = np.zeros((video_height, video_width, 3), dtype=np.uint8)\n",
    "\n",
    "# Create frames for each word\n",
    "frames = []\n",
    "for i, word in enumerate(words):\n",
    "    # Create white text on black background\n",
    "    text_size = cv2.getTextSize(word, font, font_scale, font_thickness)[0]\n",
    "    text_x = int((video_width - text_size[0]) / 2)\n",
    "    text_y = int((video_height - text_size[1]) / 2)\n",
    "    frame = np.zeros((video_height, video_width, 3), dtype=np.uint8)\n",
    "    cv2.putText(frame, word, (text_x, text_y), font, font_scale, font_color, font_thickness, cv2.LINE_AA)\n",
    "    frames.append(frame)\n",
    "\n",
    "# Add frames to video with fading in and out\n",
    "video_frames = []\n",
    "fade_frames = int(frame_rate * duration / len(words) / 2)\n",
    "for i, frame in enumerate(frames):\n",
    "    for j in range(fade_frames):\n",
    "        alpha = j / fade_frames\n",
    "        blended = cv2.addWeighted(frame, alpha, background, 1 - alpha, 0)\n",
    "        video_frames.append(blended)\n",
    "    for j in range(fade_frames):\n",
    "        alpha = (fade_frames - j) / fade_frames\n",
    "        blended = cv2.addWeighted(frame, alpha, background, 1 - alpha, 0)\n",
    "        video_frames.append(blended)\n",
    "\n",
    "# Create video file\n",
    "fourcc = cv2.VideoWriter_fourcc(*\"mp4v\")\n",
    "video = cv2.VideoWriter(\"text_video.mp4\", fourcc, frame_rate, (video_width, video_height))\n",
    "for frame in video_frames:\n",
    "    video.write(frame)\n",
    "video.release()\n"
   ]
  }
 ],
 "metadata": {
  "kernelspec": {
   "display_name": "Python 3",
   "language": "python",
   "name": "python3"
  },
  "language_info": {
   "codemirror_mode": {
    "name": "ipython",
    "version": 3
   },
   "file_extension": ".py",
   "mimetype": "text/x-python",
   "name": "python",
   "nbconvert_exporter": "python",
   "pygments_lexer": "ipython3",
   "version": "3.10.5"
  },
  "orig_nbformat": 4,
  "vscode": {
   "interpreter": {
    "hash": "326762c714f028ba9c02f33eebe76cd310608012c25e9bc666cf364275559dc6"
   }
  }
 },
 "nbformat": 4,
 "nbformat_minor": 2
}
