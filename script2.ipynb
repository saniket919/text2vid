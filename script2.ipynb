{
 "cells": [
  {
   "cell_type": "code",
   "execution_count": 4,
   "metadata": {},
   "outputs": [
    {
     "ename": "NameError",
     "evalue": "name 'text_x' is not defined",
     "output_type": "error",
     "traceback": [
      "\u001b[1;31m---------------------------------------------------------------------------\u001b[0m",
      "\u001b[1;31mNameError\u001b[0m                                 Traceback (most recent call last)",
      "Cell \u001b[1;32mIn[4], line 34\u001b[0m\n\u001b[0;32m     31\u001b[0m font_color \u001b[39m=\u001b[39m random\u001b[39m.\u001b[39mchoice(neon_colors)\n\u001b[0;32m     33\u001b[0m \u001b[39m# Add drop shadow\u001b[39;00m\n\u001b[1;32m---> 34\u001b[0m shadow_x, shadow_y \u001b[39m=\u001b[39m text_x \u001b[39m+\u001b[39m font_shadow_offset, text_y \u001b[39m+\u001b[39m font_shadow_offset\n\u001b[0;32m     35\u001b[0m draw\u001b[39m.\u001b[39mtext((shadow_x, shadow_y), word, font\u001b[39m=\u001b[39mfont, fill\u001b[39m=\u001b[39mfont_shadow)\n\u001b[0;32m     37\u001b[0m \u001b[39m# Calculate text size and position\u001b[39;00m\n",
      "\u001b[1;31mNameError\u001b[0m: name 'text_x' is not defined"
     ]
    }
   ],
   "source": [
    "from PIL import Image, ImageDraw, ImageFont, ImageFilter\n",
    "import random\n",
    "\n",
    "# Set up input text\n",
    "text = \"Hey there My name is DURGANSH\"\n",
    "\n",
    "# Set up image properties\n",
    "image_width = 1080\n",
    "image_height = 1920\n",
    "background_color = (0, 0, 0)\n",
    "# font_size = 70\n",
    "font_shadow = (0, 0, 0)\n",
    "font_shadow_offset = 3\n",
    "\n",
    "# Define neon colors\n",
    "neon_colors = [(255, 0, 0), (255, 255, 0), (0, 255, 0), (0, 255, 255), (0, 0, 255), (255, 0, 255)]\n",
    "\n",
    "# Create new image for each word in the input text\n",
    "for word in text.split():\n",
    "    font_size=random.randint(90,160)\n",
    "    # Create new image\n",
    "    image = Image.new(\"RGB\", (image_width, image_height), background_color)\n",
    "\n",
    "    # Create drawing object\n",
    "    draw = ImageDraw.Draw(image)\n",
    "\n",
    "    # Load font\n",
    "    font = ImageFont.truetype(\"Candara.ttf\", font_size)\n",
    "\n",
    "    # Set random neon color\n",
    "    font_color = random.choice(neon_colors)\n",
    "\n",
    "    # Add drop shadow\n",
    "    shadow_x, shadow_y = text_x + font_shadow_offset, text_y + font_shadow_offset\n",
    "    draw.text((shadow_x, shadow_y), word, font=font, fill=font_shadow)\n",
    "\n",
    "    # Calculate text size and position\n",
    "    text_width, text_height = draw.textsize(word, font=font)\n",
    "    text_x = (image_width - text_width) / 2\n",
    "    text_y = (image_height - text_height) / 2\n",
    "\n",
    "    # Add neon effect\n",
    "    for i in range(10):\n",
    "        # Draw text with slight offset and blur\n",
    "        offset_x, offset_y = random.randint(-5, 5), random.randint(-5, 5)\n",
    "        draw.text((text_x + offset_x, text_y + offset_y), word, font=font, fill=font_color)\n",
    "        #image = image.filter(ImageFilter.BLUR)\n",
    "\n",
    "    # Draw final text\n",
    "    draw.text((text_x, text_y), word, font=font, fill=font_color)\n",
    "\n",
    "    # Save image\n",
    "    image.save(f\"{word}.png\")\n"
   ]
  }
 ],
 "metadata": {
  "kernelspec": {
   "display_name": "Python 3",
   "language": "python",
   "name": "python3"
  },
  "language_info": {
   "codemirror_mode": {
    "name": "ipython",
    "version": 3
   },
   "file_extension": ".py",
   "mimetype": "text/x-python",
   "name": "python",
   "nbconvert_exporter": "python",
   "pygments_lexer": "ipython3",
   "version": "3.10.5"
  },
  "orig_nbformat": 4,
  "vscode": {
   "interpreter": {
    "hash": "326762c714f028ba9c02f33eebe76cd310608012c25e9bc666cf364275559dc6"
   }
  }
 },
 "nbformat": 4,
 "nbformat_minor": 2
}
